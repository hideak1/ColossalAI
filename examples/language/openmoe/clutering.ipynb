{
 "cells": [
  {
   "cell_type": "code",
   "execution_count": 2,
   "metadata": {},
   "outputs": [
    {
     "ename": "",
     "evalue": "",
     "output_type": "error",
     "traceback": [
      "\u001b[1;31mThe Kernel crashed while executing code in the the current cell or a previous cell. Please review the code in the cell(s) to identify a possible cause of the failure. Click <a href='https://aka.ms/vscodeJupyterKernelCrash'>here</a> for more info. View Jupyter <a href='command:jupyter.viewOutput'>log</a> for further details."
     ]
    }
   ],
   "source": [
    "from transformers import T5Tokenizer, T5EncoderModel\n",
    "from datasets import load_dataset\n",
    "from sklearn.manifold import TSNE\n",
    "import matplotlib.pyplot as plt\n",
    "import numpy as np\n",
    "import torch\n",
    "# 加载数据集\n",
    "dataset = load_dataset(\"yizhongw/self_instruct\", 'self_instruct', split='train[:5000]')  # 只取前100个样本进行测试\n",
    "\n",
    "# 加载 T5 tokenizer\n",
    "tokenizer = T5Tokenizer.from_pretrained('google/umt5-small')\n",
    "model = T5EncoderModel.from_pretrained('google/umt5-small')\n",
    "\n",
    "# 对数据集文本进行编码\n",
    "inputs = tokenizer(dataset['prompt'], return_tensors=\"pt\", padding=True, truncation=True, max_length=512)\n",
    "input_ids = inputs.input_ids\n",
    "\n",
    "# 获取 T5 模型的嵌入\n",
    "all_embeddings = []\n",
    "with torch.no_grad():\n",
    "    outputs = model(input_ids=input_ids)\n",
    "    embeddings = outputs.last_hidden_state\n",
    "    # embeddings = outputs.last_hidden_state.squeeze(0)\n",
    "    # all_embeddings.append(embeddings)\n",
    "\n",
    "# 使用嵌入的平均值作为特征\n",
    "features = embeddings.mean(dim=1).numpy()\n",
    "\n",
    "# all_embeddings_tensor = torch.cat(all_embeddings, dim=0)\n",
    "# print(all_embeddings_tensor.shape)\n",
    "# all_embeddings_flattened = all_embeddings_tensor.view(-1, all_embeddings_tensor.size(-1))\n",
    "# print(all_embeddings_flattened.shape)\n",
    "\n",
    "\n",
    "# 应用 t-SNE\n",
    "tsne = TSNE(n_components=2, random_state=0)\n",
    "X_tsne = tsne.fit_transform(features)\n",
    "print(X_tsne.shape)\n",
    "\n",
    "# from sklearn.cluster import KMeans\n",
    "\n",
    "# # 假设 X_tsne 是 t-SNE 的结果\n",
    "# num_clusters = 5  # 指定想要的聚类数量\n",
    "\n",
    "# # 进行 K-Means 聚类\n",
    "# kmeans = KMeans(n_clusters=num_clusters, random_state=0)\n",
    "# clusters = kmeans.fit_predict(X_tsne)\n",
    "\n",
    "\n",
    "\n",
    "from sklearn.cluster import DBSCAN\n",
    "import matplotlib.pyplot as plt\n",
    "\n",
    "# 假设 X_tsne 是您的 t-SNE 降维后的数据\n",
    "# 应用 DBSCAN 聚类\n",
    "# eps 和 min_samples 参数可能需要根据您的数据进行调整\n",
    "dbscan = DBSCAN(eps=0.5, min_samples=5)\n",
    "clusters = dbscan.fit_predict(X_tsne)\n",
    "\n",
    "\n",
    "# 可视化聚类结果\n",
    "plt.scatter(X_tsne[:, 0], X_tsne[:, 1], c=clusters, cmap='viridis')\n",
    "plt.title(\"t-SNE with K-Means Clustering\")\n",
    "plt.xlabel(\"t-SNE Feature 1\")\n",
    "plt.ylabel(\"t-SNE Feature 2\")\n",
    "plt.colorbar()  # 显示颜色条\n",
    "plt.show()"
   ]
  }
 ],
 "metadata": {
  "kernelspec": {
   "display_name": "fmoe",
   "language": "python",
   "name": "python3"
  },
  "language_info": {
   "codemirror_mode": {
    "name": "ipython",
    "version": 3
   },
   "file_extension": ".py",
   "mimetype": "text/x-python",
   "name": "python",
   "nbconvert_exporter": "python",
   "pygments_lexer": "ipython3",
   "version": "3.10.13"
  }
 },
 "nbformat": 4,
 "nbformat_minor": 2
}
